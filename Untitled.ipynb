{
 "cells": [
  {
   "cell_type": "code",
   "execution_count": null,
   "id": "bca5556c-cece-4cfb-908b-83b460c380cc",
   "metadata": {},
   "outputs": [],
   "source": []
  }
 ],
 "metadata": {
  "kernelspec": {
   "display_name": "",
   "name": ""
  },
  "language_info": {
   "name": ""
  }
 },
 "nbformat": 4,
 "nbformat_minor": 5
}
